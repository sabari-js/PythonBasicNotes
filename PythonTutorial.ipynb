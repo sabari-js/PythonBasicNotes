{
  "nbformat": 4,
  "nbformat_minor": 0,
  "metadata": {
    "colab": {
      "provenance": [],
      "authorship_tag": "ABX9TyNdJleUM53lAcxpzTAYz6OM"
    },
    "kernelspec": {
      "name": "python3",
      "display_name": "Python 3"
    },
    "language_info": {
      "name": "python"
    }
  },
  "cells": [
    {
      "cell_type": "markdown",
      "source": [
        "\n",
        "##PYTHON Tutorial##\n",
        "#what is python?\n",
        "\n",
        "it's popular high level programming languages was created by Guido van Rossum and release in 1991.python is the interpreter language.\n",
        "\n",
        "\n",
        "#What is interpreter language?\n",
        "\n",
        "Interpreter language was excute the program line by line. But compiler language was compiled the whole program and executing.\n",
        "\n",
        "\n",
        "#uses\n",
        "Web development,software development, ML, AI,easy to use"
      ],
      "metadata": {
        "id": "FiccQK2btZho"
      }
    },
    {
      "cell_type": "code",
      "source": [
        "# python syntax\n",
        "print(\"welcome\")\n",
        "\n",
        "\n",
        "#version\n",
        "import sys\n",
        "print(sys.version)"
      ],
      "metadata": {
        "colab": {
          "base_uri": "https://localhost:8080/"
        },
        "id": "PDG4imWiu89y",
        "outputId": "b3f7742f-6f66-4ad0-f807-970ef780f16d"
      },
      "execution_count": null,
      "outputs": [
        {
          "output_type": "stream",
          "name": "stdout",
          "text": [
            "welcome\n",
            "3.10.12 (main, Sep 11 2024, 15:47:36) [GCC 11.4.0]\n"
          ]
        }
      ]
    },
    {
      "cell_type": "markdown",
      "source": [
        "#Indentation\n",
        "\n",
        "In Python indentation was used to indigate block of code"
      ],
      "metadata": {
        "id": "A46LgIp1wC-T"
      }
    },
    {
      "cell_type": "code",
      "source": [
        "a = 1\n",
        "if a < 2:\n",
        "  print(\"yes\")"
      ],
      "metadata": {
        "colab": {
          "base_uri": "https://localhost:8080/"
        },
        "id": "BvxZ5AJNwS4w",
        "outputId": "9eae0801-7c33-45ed-f53a-b79610ec9bd5"
      },
      "execution_count": null,
      "outputs": [
        {
          "output_type": "stream",
          "name": "stdout",
          "text": [
            "yes\n"
          ]
        }
      ]
    },
    {
      "cell_type": "markdown",
      "source": [
        "\n",
        "## Command Line\n",
        "\n",
        "Single line command - #\n",
        "\n",
        "Multi Line command  - \"' '\"\n",
        "\n",
        "## Variables\n",
        "\n",
        "Variables was used for assigning values\n",
        "Python has no command for declating variable.\n",
        "\n",
        "Variables are case sensitive"
      ],
      "metadata": {
        "id": "dwXU3cl2xKQf"
      }
    },
    {
      "cell_type": "code",
      "source": [
        "a = \"Karunai Kadale Kantha Porti\"\n",
        "print(a)\n",
        "#casting also done in python\n",
        "b = int(10)\n",
        "# case sensitive also\n",
        "\n",
        "# multi variable assigning\n",
        "x, y, z = 1 , 2, 3\n",
        "print (x)\n",
        "# one value to multiple\n",
        "a1 = b1 = \"Muruga\"\n",
        "print ( b1)\n",
        "# unpack collection\n",
        "Fruits = [ \"apple\", \"Bannana\", \"orange\"]\n",
        "x, y, z = Fruits\n",
        "print(x)"
      ],
      "metadata": {
        "colab": {
          "base_uri": "https://localhost:8080/"
        },
        "id": "jA7V1meDAVm-",
        "outputId": "5b2b924a-44be-4350-d5a5-cb612d6af050"
      },
      "execution_count": null,
      "outputs": [
        {
          "output_type": "stream",
          "name": "stdout",
          "text": [
            "Karunai Kadale Kantha Porti\n",
            "1\n",
            "Muruga\n",
            "apple\n"
          ]
        }
      ]
    },
    {
      "cell_type": "markdown",
      "source": [
        "## Global variable\n",
        "used for use the variable entire program"
      ],
      "metadata": {
        "id": "f0teXv08AYeE"
      }
    },
    {
      "cell_type": "code",
      "source": [
        "# without using global keyword\n",
        "\n",
        "x1 = \"sss\"\n",
        "def sprint():\n",
        "  print(x1)\n",
        "sprint()\n",
        "\n",
        "#if use the variable is same like used out side of the function. Inside the function it will be overwrite\n",
        "x1 = \"sss\"\n",
        "def sprint():\n",
        "  x1 = \"hello\"\n",
        "  print(x1)\n",
        "sprint()\n",
        "\n",
        "# using global keyword\n",
        "def sprint2():\n",
        "   global yzz\n",
        "   yzz = \"jss\"\n",
        "   print(yzz)\n",
        "\n",
        "sprint2()\n",
        "\n",
        "print(yzz)"
      ],
      "metadata": {
        "colab": {
          "base_uri": "https://localhost:8080/"
        },
        "id": "zkHgs5_iAuT6",
        "outputId": "084aaaf6-71d4-48de-9cc1-52ca3286d335"
      },
      "execution_count": null,
      "outputs": [
        {
          "output_type": "stream",
          "name": "stdout",
          "text": [
            "sss\n",
            "hello\n",
            "jss\n",
            "jss\n"
          ]
        }
      ]
    },
    {
      "cell_type": "markdown",
      "source": [
        "## Time Complexity & Space Complexity\n",
        "\n",
        "# 1) What is Time Complexity?\n",
        "Time complexity measures the amount of time an algorithm takes to complete as a function of the size of its input. It is the relationship of time groups according to the input group.\n",
        "\n",
        "# Big notation\n",
        "1) Big O notation - Worst case (or) Upper Bound\n",
        "\n",
        "2) omega notation - best case (or) Lower Bound\n",
        "\n",
        "3) Theta notation - average case (or) both upper and lower\n",
        "\n",
        "##Example:\n",
        "\n",
        "ex_list = [1,2,3,4,5]\n",
        "\n",
        "# Worst case\n",
        "Program accessing maximum number of input size. For example above the list searching number 5 is present in the list. It finded the number as maximum length of the list which means it was find the 5 as 4 element of the list. This is called worst case. 0(n)\n",
        "\n",
        "# Best case\n",
        "Program accessing minimum number of the input size. For example above the list find the number 1 was presented in list it was accessing 1 elelment of the list. That was called best case. 0(1)\n",
        "\n",
        "# Average Case\n",
        "It is simply like (worst case+ best case) /2 = mid\n",
        "\n",
        "\n",
        "##Common Time complexcities in\n",
        "\n",
        "###1) o(1) - Constant\n",
        "An algorithm is said to have a constant time when it is not dependent on the input data."
      ],
      "metadata": {
        "id": "J62CpfjsBmqd"
      }
    },
    {
      "cell_type": "code",
      "source": [
        "input1 = [1,2,3,4,5]\n",
        "print(input1[0])\n",
        "\n",
        "# above this code we accessing the 0th element in the list.so it accessing 0th element in the list. Does not accessing another elements."
      ],
      "metadata": {
        "colab": {
          "base_uri": "https://localhost:8080/"
        },
        "id": "FFyWVvGsqcWo",
        "outputId": "463b5e23-d6d1-414d-d274-21f86001feab"
      },
      "execution_count": null,
      "outputs": [
        {
          "output_type": "stream",
          "name": "stdout",
          "text": [
            "1\n"
          ]
        }
      ]
    },
    {
      "cell_type": "markdown",
      "source": [
        "##2) o(Log N) - Logarithamic\n",
        "\n",
        "One of the fastest types of algorithm has a time complexity of O(log n).An algorithm is said to have a logarithmic time complexity when it reduces the size of the input data in each step. Most of divide and conquer methods use this complexcity.\n",
        "\n",
        "Mid = best + worst /2"
      ],
      "metadata": {
        "id": "O9lRu68Xsiaq"
      }
    },
    {
      "cell_type": "code",
      "source": [
        "def binarySearch(lst, x):\n",
        "    low = 0\n",
        "    high = len(lst)-1\n",
        "    # Repeat until the pointers low and high meet each other\n",
        "    while low <= high:\n",
        "        mid = low + (high - low)//2\n",
        "        if lst[mid] == x:\n",
        "            return mid\n",
        "        elif lst[mid] < x:\n",
        "            low = mid + 1\n",
        "        else:\n",
        "            high = mid - 1\n",
        "    return -1\n",
        "\n",
        "lst = [1,2,3,4,5,6,7,8,9]\n",
        "x = 7\n",
        "\n",
        "print(binarySearch(lst, x))"
      ],
      "metadata": {
        "colab": {
          "base_uri": "https://localhost:8080/"
        },
        "id": "tmuu-B9B03ND",
        "outputId": "7dbbe711-d9d5-416f-8ea6-9d095573c2ec"
      },
      "execution_count": null,
      "outputs": [
        {
          "output_type": "stream",
          "name": "stdout",
          "text": [
            "6\n"
          ]
        }
      ]
    },
    {
      "cell_type": "markdown",
      "source": [
        "# 3) o(√n) - square root\n",
        "\n",
        "It indicates that the algorithm's runtime grows proportionally to the square root of the input size."
      ],
      "metadata": {
        "id": "fT7NtBqyFv16"
      }
    },
    {
      "cell_type": "code",
      "source": [
        "n = 10  # Example value for n\n",
        "i = 1\n",
        "while i * i <= n:\n",
        "    # Perform any operation here\n",
        "    print(i)  # For demonstration, print the current value of i\n",
        "    i += 1"
      ],
      "metadata": {
        "colab": {
          "base_uri": "https://localhost:8080/"
        },
        "id": "mrQEXJyzGUu4",
        "outputId": "19c586c7-b29c-473f-eb7e-8997a1af1e5d"
      },
      "execution_count": null,
      "outputs": [
        {
          "output_type": "stream",
          "name": "stdout",
          "text": [
            "1\n",
            "2\n",
            "3\n"
          ]
        }
      ]
    },
    {
      "cell_type": "markdown",
      "source": [
        "# 4) o(n) - Linear\n",
        "\n",
        "Algorithms with linear time complexity have their runtime linearly proportional to the size of the input."
      ],
      "metadata": {
        "id": "wHGVUmWmHRxc"
      }
    },
    {
      "cell_type": "code",
      "source": [
        "lst = [1, 2, 3, 4, 5]\n",
        "\n",
        "for i in lst:\n",
        "    print(i)"
      ],
      "metadata": {
        "colab": {
          "base_uri": "https://localhost:8080/"
        },
        "id": "c0BcGj-CJU0d",
        "outputId": "aed75173-c750-4da5-d33b-aa3bf60de649"
      },
      "execution_count": null,
      "outputs": [
        {
          "output_type": "stream",
          "name": "stdout",
          "text": [
            "1\n",
            "2\n",
            "3\n",
            "4\n",
            "5\n"
          ]
        }
      ]
    },
    {
      "cell_type": "markdown",
      "source": [
        "# 5) o(n logn) - Quasilinear Time Complexity\n",
        "A time complexity where an algorithm’s runtime grows proportionally to 𝑛 times the logarithm of n.Often occurs in divide-and-conquer algorithms, where data is split, processed in smaller parts, and then merged. The log 𝑛 factor comes from dividing the data, while n represents processing each element."
      ],
      "metadata": {
        "id": "qYSd9mvct0S9"
      }
    },
    {
      "cell_type": "code",
      "source": [
        "def merge_sort(arr):\n",
        "    if len(arr) <= 1:\n",
        "        return arr  # Base case for recursion\n",
        "\n",
        "    # Divide the array into two halves\n",
        "    mid = len(arr) // 2\n",
        "    left_half = merge_sort(arr[:mid])\n",
        "    right_half = merge_sort(arr[mid:])\n",
        "\n",
        "    # Merge the sorted halves\n",
        "    return merge(left_half, right_half)\n",
        "\n",
        "def merge(left, right):\n",
        "    sorted_arr = []\n",
        "    i = j = 0\n",
        "\n",
        "    # Merge elements from both halves in sorted order\n",
        "    while i < len(left) and j < len(right):\n",
        "        if left[i] < right[j]:\n",
        "            sorted_arr.append(left[i])\n",
        "            i += 1\n",
        "        else:\n",
        "            sorted_arr.append(right[j])\n",
        "            j += 1\n",
        "\n",
        "    # Append remaining elements (if any)\n",
        "    sorted_arr.extend(left[i:])\n",
        "    sorted_arr.extend(right[j:])\n",
        "    return sorted_arr\n",
        "\n",
        "# Example usage\n",
        "arr = [38, 27, 43, 3, 9, 82, 10]\n",
        "sorted_arr = merge_sort(arr)\n",
        "print(\"Sorted array:\", sorted_arr)"
      ],
      "metadata": {
        "colab": {
          "base_uri": "https://localhost:8080/"
        },
        "id": "d58kDo2rwcDX",
        "outputId": "626261c6-8faf-42bf-d104-5ea9e3f0b317"
      },
      "execution_count": null,
      "outputs": [
        {
          "output_type": "stream",
          "name": "stdout",
          "text": [
            "Sorted array: [3, 9, 10, 27, 38, 43, 82]\n"
          ]
        }
      ]
    },
    {
      "cell_type": "markdown",
      "source": [
        "# 6) O(n²) — Quadratic Time\n",
        "\n",
        "When a second loop is added inside the first one, it doesn’t simply run twice. Instead, it runs n * n times."
      ],
      "metadata": {
        "id": "79GTCLkNJuGm"
      }
    },
    {
      "cell_type": "code",
      "source": [
        "\n",
        "data = 'hi'\n",
        "for x in data:\n",
        "    for y in data:\n",
        "        print(x, y)"
      ],
      "metadata": {
        "colab": {
          "base_uri": "https://localhost:8080/"
        },
        "id": "JzAgCdxJsmMj",
        "outputId": "01b274ec-343d-4138-c579-3b75ad3e8ce2"
      },
      "execution_count": null,
      "outputs": [
        {
          "output_type": "stream",
          "name": "stdout",
          "text": [
            "h h\n",
            "h i\n",
            "i h\n",
            "i i\n"
          ]
        }
      ]
    },
    {
      "cell_type": "markdown",
      "source": [
        "# 7) o(n^3) - Qubic\n",
        "This means that the runtime of an algorithm grows in proportion to the cube of the input size n.\n",
        "This usually happens when three nested loops are required to solve a problem, with each loop iterating over n items."
      ],
      "metadata": {
        "id": "DDb3n48Gw_k8"
      }
    },
    {
      "cell_type": "code",
      "source": [
        "def print_triplets(arr):\n",
        "    n = len(arr)\n",
        "    for i in range(n):  # First element\n",
        "        for j in range(i + 1, n):  # Second element\n",
        "            for k in range(j + 1, n):  # Third element\n",
        "                print(arr[i], arr[j], arr[k])\n",
        "\n",
        "# Example usage\n",
        "arr = [1, 2, 3, 4]\n",
        "print_triplets(arr)"
      ],
      "metadata": {
        "colab": {
          "base_uri": "https://localhost:8080/"
        },
        "id": "C0s3f6449hVy",
        "outputId": "c4a4ac08-a4ae-4940-9084-50970bd92ce5"
      },
      "execution_count": null,
      "outputs": [
        {
          "output_type": "stream",
          "name": "stdout",
          "text": [
            "1 2 3\n",
            "1 2 4\n",
            "1 3 4\n",
            "2 3 4\n"
          ]
        }
      ]
    },
    {
      "cell_type": "markdown",
      "source": [
        "# 8) o (2^n) - Exponential\n",
        "\n",
        "Exponential time complexity means that the algorithm's runtime doubles with each increase in input size n. Often seen in problems where each step creates two new possibilities, like recursive calculations."
      ],
      "metadata": {
        "id": "Ium85bpZ9vvh"
      }
    },
    {
      "cell_type": "code",
      "source": [
        "def fibonacci(n):\n",
        "    if n <= 1:\n",
        "        return n\n",
        "    return fibonacci(n - 1) + fibonacci(n - 2)\n",
        "\n",
        "# Example usage\n",
        "print(fibonacci(5))  # Output: 5"
      ],
      "metadata": {
        "colab": {
          "base_uri": "https://localhost:8080/"
        },
        "id": "2F-pvSaVAzDc",
        "outputId": "07f37a3a-24de-4ff5-fc96-0e570df8a087"
      },
      "execution_count": null,
      "outputs": [
        {
          "output_type": "stream",
          "name": "stdout",
          "text": [
            "5\n"
          ]
        }
      ]
    },
    {
      "cell_type": "markdown",
      "source": [
        "# 9) o(n!) - Factorial\n",
        "\n",
        "Exponential time complexity means that the algorithm's runtime doubles with each increase in input size n."
      ],
      "metadata": {
        "id": "lq6_bPStB_sH"
      }
    },
    {
      "cell_type": "code",
      "source": [
        "def generate_permutations(arr, perm=[]):\n",
        "    if len(arr) == 0:\n",
        "        print(perm)  # Print each permutation\n",
        "    else:\n",
        "        for i in range(len(arr)):\n",
        "            generate_permutations(arr[:i] + arr[i+1:], perm + [arr[i]])\n",
        "\n",
        "# Example usage\n",
        "arr = [1, 2, 3]\n",
        "generate_permutations(arr)"
      ],
      "metadata": {
        "colab": {
          "base_uri": "https://localhost:8080/"
        },
        "id": "VMAemEiGERxk",
        "outputId": "ba4e95e0-da1b-435c-9057-9db7fb3bf4f7"
      },
      "execution_count": null,
      "outputs": [
        {
          "output_type": "stream",
          "name": "stdout",
          "text": [
            "[1, 2, 3]\n",
            "[1, 3, 2]\n",
            "[2, 1, 3]\n",
            "[2, 3, 1]\n",
            "[3, 1, 2]\n",
            "[3, 2, 1]\n"
          ]
        }
      ]
    },
    {
      "cell_type": "markdown",
      "source": [
        "# Space Complexity\n",
        "\n",
        "## What is Space Complexity?\n",
        "\n",
        "Space complexity is used to measure the growth trend of the memory space occupied by an algorithm as the amount of data increases. Analyzing the space complexity of an algorithm, there are two primary components to consider:\n",
        "\n",
        "### 1) input space - This is the space needed to store the input data\n",
        "\n",
        "### 2) Auxiliary Space - This is the extra space or temporary space used by an algorithm.\n",
        "\n",
        "\n",
        "## common Big o space complexity.\n",
        "\n",
        "## o(1) - Constant\n",
        "\n",
        "The algorithm uses a fixed amount of memory regardless of the input size."
      ],
      "metadata": {
        "id": "TO0uhDZ1GAla"
      }
    },
    {
      "cell_type": "code",
      "source": [
        "def add_two_numbers(a, b):\n",
        "    result = a + b\n",
        "    return result"
      ],
      "metadata": {
        "id": "cSWvfxAPwNj_"
      },
      "execution_count": null,
      "outputs": []
    },
    {
      "cell_type": "markdown",
      "source": [
        "## Logarithmic Space — O(logn)\n",
        "\n",
        "The algorithm's memory usage grows logarithmically with the input size.This is common in algorithms that use recursion on only half the data, like binary search."
      ],
      "metadata": {
        "id": "2Vk5PA-bwnH8"
      }
    },
    {
      "cell_type": "code",
      "source": [
        "\n",
        "def binary_search(arr, target, left, right):\n",
        "    if left > right:\n",
        "        return -1\n",
        "    mid = (left + right) // 2\n",
        "    if arr[mid] == target:\n",
        "        return mid\n",
        "    elif arr[mid] < target:\n",
        "        return binary_search(arr, target, mid + 1, right)\n",
        "    else:\n",
        "        return binary_search(arr, target, left, mid - 1)\n",
        "\n",
        "# Example usage\n",
        "arr = [1, 2, 3, 4, 5, 6, 7]\n",
        "print(binary_search(arr, 5, 0, len(arr) - 1))  # Output: 4"
      ],
      "metadata": {
        "colab": {
          "base_uri": "https://localhost:8080/"
        },
        "id": "eLFRK8_HxCDT",
        "outputId": "1fe83f0e-1832-49ec-996b-f1104e99dc20"
      },
      "execution_count": null,
      "outputs": [
        {
          "output_type": "stream",
          "name": "stdout",
          "text": [
            "4\n"
          ]
        }
      ]
    },
    {
      "cell_type": "markdown",
      "source": [
        "## 3) Linear Space — O(n)\n",
        "\n",
        "Memory usage grows linearly with the input size. This is typical when using arrays, lists, or recursion that holds all items in memory."
      ],
      "metadata": {
        "id": "GPsglDlWxVcA"
      }
    },
    {
      "cell_type": "code",
      "source": [
        "def squares(n):\n",
        "    result = []\n",
        "    for i in range(n):\n",
        "        result.append(i * i)\n",
        "    return result\n",
        "\n",
        "# Example usage\n",
        "print(squares(5))  # Output: [0, 1, 4, 9, 16]"
      ],
      "metadata": {
        "colab": {
          "base_uri": "https://localhost:8080/"
        },
        "id": "Kjt6LmcAxlb_",
        "outputId": "b05da4f0-28ad-4c9a-b925-13e53c8969ce"
      },
      "execution_count": null,
      "outputs": [
        {
          "output_type": "stream",
          "name": "stdout",
          "text": [
            "[0, 1, 4, 9, 16]\n"
          ]
        }
      ]
    },
    {
      "cell_type": "markdown",
      "source": [
        "## 4) Linearithmic Space — O(nlogn)\n",
        "\n",
        "This complexity is common in algorithms like merge sort that require temporary storage proportional to nlogn. Example: Merge sort (splits the data recursively and requires temporary space for merging)."
      ],
      "metadata": {
        "id": "PALB11J-1MMo"
      }
    },
    {
      "cell_type": "code",
      "source": [
        "def merge_sort(arr):\n",
        "    if len(arr) <= 1:\n",
        "        return arr\n",
        "    mid = len(arr) // 2\n",
        "    left = merge_sort(arr[:mid])\n",
        "    right = merge_sort(arr[mid:])\n",
        "    return merge(left, right)\n",
        "\n",
        "def merge(left, right):\n",
        "    result = []\n",
        "    while left and right:\n",
        "        if left[0] < right[0]:\n",
        "            result.append(left.pop(0))\n",
        "        else:\n",
        "            result.append(right.pop(0))\n",
        "    result.extend(left or right)\n",
        "    return result\n",
        "\n",
        "# Example usage\n",
        "arr = [3, 1, 4, 1, 5]\n",
        "print(merge_sort(arr))  # Output: [1, 1, 3, 4, 5]"
      ],
      "metadata": {
        "colab": {
          "base_uri": "https://localhost:8080/"
        },
        "id": "PcWMuQHZ1dqT",
        "outputId": "ebbfa776-3048-4094-f588-5faed76c7677"
      },
      "execution_count": null,
      "outputs": [
        {
          "output_type": "stream",
          "name": "stdout",
          "text": [
            "[1, 1, 3, 4, 5]\n"
          ]
        }
      ]
    },
    {
      "cell_type": "markdown",
      "source": [
        "## 5) Quadratic Space — O(n^2)\n",
        "\n",
        "Memory usage grows as the square of the input size, often in algorithms that store information about every possible pair or in matrices.\n",
        "Example: Creating a 2D array (matrix) of size\n",
        "n×n."
      ],
      "metadata": {
        "id": "4jLDYVmZEpLd"
      }
    },
    {
      "cell_type": "code",
      "source": [
        "def create_matrix(n):\n",
        "    matrix = [[0] * n for _ in range(n)]\n",
        "    return matrix\n",
        "\n",
        "# Example usage\n",
        "print(create_matrix(3))\n",
        "# Output: [[0, 0, 0], [0, 0, 0], [0, 0, 0]]"
      ],
      "metadata": {
        "colab": {
          "base_uri": "https://localhost:8080/"
        },
        "id": "rwsshqUbFGq_",
        "outputId": "e50d4747-8ea6-41f9-ecdf-ad2fa1402264"
      },
      "execution_count": null,
      "outputs": [
        {
          "output_type": "stream",
          "name": "stdout",
          "text": [
            "[[0, 0, 0], [0, 0, 0], [0, 0, 0]]\n"
          ]
        }
      ]
    },
    {
      "cell_type": "markdown",
      "source": [
        "## 6) Exponential Space — O(2^n)\n",
        "\n",
        "Memory usage doubles with each additional input, seen in some recursive algorithms with extensive branching, like the naive recursive approach to the Fibonacci sequence.\n",
        "Example: Calculating Fibonacci numbers without memoization."
      ],
      "metadata": {
        "id": "HLST4u2tFdQ-"
      }
    },
    {
      "cell_type": "code",
      "source": [
        "\n",
        "def fibonacci(n):\n",
        "    if n <= 1:\n",
        "        return n\n",
        "    return fibonacci(n - 1) + fibonacci(n - 2)\n",
        "\n",
        "# Example usage\n",
        "print(fibonacci(5))"
      ],
      "metadata": {
        "colab": {
          "base_uri": "https://localhost:8080/"
        },
        "id": "OlMFr96kNdtn",
        "outputId": "bfa1c8b0-c84c-49ec-b0e5-c2235283378f"
      },
      "execution_count": null,
      "outputs": [
        {
          "output_type": "stream",
          "name": "stdout",
          "text": [
            "5\n"
          ]
        }
      ]
    },
    {
      "cell_type": "markdown",
      "source": [
        "## 7) Factorial Space — O(n!)\n",
        "\n",
        "Memory usage grows as n! (factorial of n), seen in problems like generating all permutations."
      ],
      "metadata": {
        "id": "RsRRATL7O_Qz"
      }
    },
    {
      "cell_type": "code",
      "source": [
        "def generate_permutations(arr, perm=[]):\n",
        "    if len(arr) == 0:\n",
        "        print(perm)  # Print each permutation\n",
        "    else:\n",
        "        for i in range(len(arr)):\n",
        "            # Choose the current element, remove it from arr, and add it to perm\n",
        "            generate_permutations(arr[:i] + arr[i+1:], perm + [arr[i]])\n",
        "\n",
        "# Example usage\n",
        "generate_permutations([1, 2, 3])"
      ],
      "metadata": {
        "colab": {
          "base_uri": "https://localhost:8080/"
        },
        "id": "9DJ77SaqPKU3",
        "outputId": "98344968-b372-4d65-911a-9626adf1321c"
      },
      "execution_count": null,
      "outputs": [
        {
          "output_type": "stream",
          "name": "stdout",
          "text": [
            "[1, 2, 3]\n",
            "[1, 3, 2]\n",
            "[2, 1, 3]\n",
            "[2, 3, 1]\n",
            "[3, 1, 2]\n",
            "[3, 2, 1]\n"
          ]
        }
      ]
    },
    {
      "cell_type": "markdown",
      "source": [
        "### In Time and Space Complexity we choose worst case"
      ],
      "metadata": {
        "id": "7ynigRUkPky1"
      }
    },
    {
      "cell_type": "markdown",
      "source": [
        "# Data Types\n",
        "\n",
        "Data type is the type of data\n",
        "\n",
        "### In python data types are\n",
        "\n",
        "1) Numeric - int, float, conplex\n",
        "\n",
        "2) Text    - string\n",
        "\n",
        "3) sequence - List, Tuple\n",
        "\n",
        "4) set type - Set, Frozen set\n",
        "\n",
        "5) boolean - bool\n",
        "\n",
        "To find out the type of the data using type()."
      ],
      "metadata": {
        "id": "1Yil0AFJzTwt"
      }
    },
    {
      "cell_type": "code",
      "source": [
        "a = 10\n",
        "print(type(a))"
      ],
      "metadata": {
        "colab": {
          "base_uri": "https://localhost:8080/"
        },
        "id": "qQQLBIli14k2",
        "outputId": "f32f01e4-2391-4ca0-9072-26852138e59b"
      },
      "execution_count": null,
      "outputs": [
        {
          "output_type": "stream",
          "name": "stdout",
          "text": [
            "<class 'int'>\n"
          ]
        }
      ]
    },
    {
      "cell_type": "markdown",
      "source": [
        "# 1) Numeric\n",
        "\n",
        "## int\n",
        "int or integer represent the whole positive and negative number without decimal.\n",
        "\n",
        "Time - o(1) for basic operations. But o(n*m) for multiplication\n",
        "\n",
        "Space - o(1) for small but for arbiatary precion o(n) for large. meaning they can grow in size as needed, unlike many languages that have fixed-precision integers.\n",
        "\n",
        "## float\n",
        "Float represent the positive and negative value with containing one or more decimal point. Also represent scientific numbers\n",
        "\n",
        "Time - o(1)\n",
        "\n",
        "Space - o(1)\n",
        "\n",
        "## complex\n",
        "Complex numbers are written with a \"j\" as the imaginary part.if to convert the the one numeric datatype to another using casting. But cannot convert complex to another type\n",
        "\n",
        "Time - o(1)\n",
        "\n",
        "Space - o(1)"
      ],
      "metadata": {
        "id": "R2tukK9u2Gw_"
      }
    },
    {
      "cell_type": "code",
      "source": [
        "# int\n",
        "a, b = 10,-12\n",
        "print(a)\n",
        "print(b)\n",
        "print(type(a))\n",
        "\n",
        "# float\n",
        "a1 = 13.99\n",
        "b1 = -18.1\n",
        "print(type(b1))\n",
        "c1 = 35e5\n",
        "print(type(c1))\n",
        "\n",
        "# complex\n",
        "x = 5+4j\n",
        "print(type(x))\n",
        "\n",
        "# conversion\n",
        "print(type(int(c1)))"
      ],
      "metadata": {
        "colab": {
          "base_uri": "https://localhost:8080/"
        },
        "id": "u7zDgLvo4VhK",
        "outputId": "b735c23a-44d4-4d98-c596-12f46c535ea0"
      },
      "execution_count": null,
      "outputs": [
        {
          "output_type": "stream",
          "name": "stdout",
          "text": [
            "10\n",
            "-12\n",
            "<class 'int'>\n",
            "<class 'float'>\n",
            "<class 'float'>\n",
            "<class 'complex'>\n",
            "<class 'int'>\n"
          ]
        }
      ]
    },
    {
      "cell_type": "markdown",
      "source": [
        "# 2) Text\n",
        "\n",
        "## String\n",
        "\n",
        "String is the sequence of characters.it surrounded by '' Or \"\". And string common Time and space complexity is o(n)."
      ],
      "metadata": {
        "id": "R3N2TBaj79_O"
      }
    },
    {
      "cell_type": "code",
      "source": [
        "print(\"python\")\n",
        "a = 'python3'\n",
        "a1 = 'python '\n",
        "print(a)\n",
        "# multi line string\n",
        "\n",
        "b = \"\"\"hi wkwjkskskskansbsvagabshaansjaja\n",
        "Hahajajajajajajansbshsjsjsj\n",
        "Hajajajajajajakakakaka \"\"\"\n",
        "\n",
        "print(b)\n",
        "\n",
        "#---------------------------------------\n",
        "\n",
        "# accessing character in string. String are array\n",
        "\n",
        "print(a[0])# Time and space Complexity of(1)\n",
        "print(a[-2]) # negative indexing\n",
        "\n",
        "#----------------------------------------\n",
        "\n",
        "# Accessing charcter through loop - o(n)\n",
        "\n",
        "for x in a:\n",
        "   print(x)\n",
        "#-----------------------------------------\n",
        "\n",
        "# Searching char in string - Time-o(m*n), Space=0(1)\n",
        "# using membership operators\n",
        "\n",
        "if 'o' in a:\n",
        "  print(\"yes\")\n",
        "\n",
        "if 'o' not in a:\n",
        "  print(\"no\")\n",
        "else:\n",
        "  print(\"yes\")\n",
        "#------------------------------------------\n",
        "\n",
        "# length - time =o(1), space=o(1)\n",
        "print(len(b))\n",
        "\n",
        "#-------------------------------------------\n",
        "\n",
        "# Slicing String - time=o(k), space=o(k) it's like o(n)\n",
        "# a[start:end]\n",
        "print(a[2:5])\n",
        "print(a[:5]) # did not mention start value. It assign first index\n",
        "print(a[2:]) # same like vice versa of end position\n",
        "print(a[-1:-3]) # negative indexing\n",
        "\n",
        "#--------------------------------------------\n",
        "# String Modification\n",
        "# Time - o(n), space - o(n)\n",
        "print(a.upper())\n",
        "print(a.lower())\n",
        "print(a.capitalize())\n",
        "#--------------------------------------------\n",
        "# Remove white space method\n",
        "# Time & Space = o(n)\n",
        "print(a1.strip())\n",
        "#------------------------------------------\n",
        "# Replace String\n",
        "# Time = o(m*n), Space = o(n)\n",
        "print(a.replace('p', 'C'))\n",
        "#------------------------------------------\n",
        "# Split the string\n",
        "# Time = o(n), space=o(n)\n",
        "print(\"hello hi\".split(\" \"))\n",
        "#------------------------------------------\n",
        "# String Concatination\n",
        "# Time = o(m+n), Space =o(m+n)\n",
        "print(\"jumbalaka\"+\"Jumbalaka\")\n",
        "#------------------------------------------\n",
        "# String Formation\n",
        "age = 30\n",
        "print(\"varun age was\", age)\n",
        "#Fstring\n",
        "print(f\"His age was {age}\")\n",
        "print(f\"his age was {age*2}\")\n",
        "#------------------------------------------\n",
        "# String Escape\n",
        "# single quotes\n",
        "print(\"hi\\'s\")\n",
        "print(\"hello \\\\ hi\") #backslash\n",
        "print(\"hello\\nnanba\") # newline\n",
        "print(\"raja\\traja\") # tab\n",
        "print(\"ahahan yennathu \\bithu\") # backspace"
      ],
      "metadata": {
        "colab": {
          "base_uri": "https://localhost:8080/"
        },
        "id": "uPGmR_y2-9GR",
        "outputId": "db3647ac-d2d4-4151-a647-f523262e1d16"
      },
      "execution_count": null,
      "outputs": [
        {
          "output_type": "stream",
          "name": "stdout",
          "text": [
            "python\n",
            "python3\n",
            "hi wkwjkskskskansbsvagabshaansjaja\n",
            "Hahajajajajajajansbshsjsjsj\n",
            "Hajajajajajajakakakaka \n",
            "p\n",
            "n\n",
            "p\n",
            "y\n",
            "t\n",
            "h\n",
            "o\n",
            "n\n",
            "3\n",
            "yes\n",
            "yes\n",
            "86\n",
            "tho\n",
            "pytho\n",
            "thon3\n",
            "\n",
            "PYTHON3\n",
            "python3\n",
            "Python3\n",
            "python\n",
            "Cython3\n",
            "['hello', 'hi']\n",
            "jumbalakaJumbalaka\n",
            "varun age was 30\n",
            "His age was 30\n",
            "his age was 60\n",
            "hi's\n",
            "hello \\ hi\n",
            "hello\n",
            "nanba\n",
            "raja\traja\n",
            "ahahan yennathu \bithu\n"
          ]
        }
      ]
    },
    {
      "cell_type": "markdown",
      "source": [
        "# String Methods and their Complexity"
      ],
      "metadata": {
        "id": "HJuB89FcpPCp"
      }
    },
    {
      "cell_type": "code",
      "source": [
        "\n",
        "text = \"chappuni suppuni manguni\"\n",
        "#------------------------------------------\n",
        "# capitalize - convert the string 1st leterr capital\n",
        "# syn - str.capitalize()\n",
        "# Time = o(n), Space = o(n)\n",
        "print(text.capitalize())\n",
        "#------------------------------------------\n",
        "# Casefold, lower- convert the string into lower Same like lower\n",
        "# syn - str.casefold() or lower()\n",
        "# Time - o(n), space = o(n)\n",
        "print(text.casefold())\n",
        "#------------------------------------------\n",
        "# center - align the string in center.\n",
        "# syn - str. Center(length, chat)\n",
        "# Time = o(n), space = o(n)\n",
        "print(text.center(70))\n",
        "print(text.center(60, 'i'))\n",
        "#------------------------------------------\n",
        "# count - count the values how many times presented in the string\n",
        "# syn - str. Count(value)\n",
        "# Time - o(n*m) , space -o(1)\n",
        "print(text.count('pp'))\n",
        "#------------------------------------------\n",
        "# encode - return the encoded version\n",
        "# syn - str. encode(encoding, error) - if not mention the encode it defaulty take utf-8\n",
        "# Time - o(n), space = o(n)\n",
        "print(text.encode(\"utf-8\"))\n",
        "# same like decode method also\n",
        "# syn - str. decode(\"utf-8\"))\n",
        "#------------------------------------------\n",
        "# endswith - check if the strong endswith the values\n",
        "# syn - str.endswith(value)\n",
        "# Time = o(n), space = o(n)\n",
        "print(text.endswith(\"i\"))\n",
        "# startswith - check the string start with value\n",
        "# syn - str.startswith(value)\n",
        "# Time = o(n), space = o(n)\n",
        "print(text.startswith(\"c\"))\n",
        "#------------------------------------------\n",
        "# expandtabs - set the tab size of the string\n",
        "txt = \"H\\te\\tl\\tl\\to\"\n",
        "x =  txt.expandtabs(2)\n",
        "print(x)\n",
        "#------------------------------------------\n",
        "# find - check the value position in the string\n",
        "# syn - str.find(value)\n",
        "# Time = o(n*m), Space = o(1)\n",
        "print(text.find(\"h\"))\n",
        "#------------------------------------------\n",
        "# format - format the specific value in the string\n",
        "# syn - str. format(v1, v2)\n",
        "print(\"{name} age was {age}\".format(name=\"swami\", age=30))\n",
        "# -----------------------------------------\n",
        "# index - find the specified value index in the string\n",
        "# syn - str.index(val,start,end)\n",
        "# Time = o(n*m), space= o(1)\n",
        "print(text.index(\"s\"))\n",
        "print(text.index(\"p\", 0,10))\n",
        "# rindex - find the value in string backward indexing\n",
        "print(text.rindex(\"p\"))\n",
        "#------------------------------------------\n",
        "# isalnum - check the string alpha numeric\n",
        "# syn - str.isalnum()\n",
        "# Time - o(n), Space = o(1)\n",
        "print(text.isalnum())\n",
        "#-----------------------------------------\n",
        "# isalpha - chech the string is alphabet\n",
        "# syn - str. isalpha()\n",
        "# Time - o(n), Space = o(1)\n",
        "print(text.isalpha())\n",
        "#-----------------------------------------\n",
        "# isascii - check that string have ascii values\n",
        "# syn - str.isascii()\n",
        "# Time - o(n), space = o(1)\n",
        "print (text.isascii())\n",
        "# ----------------------------------------\n",
        "# isdigit - check the string is digit\n",
        "# syn - str.isdigit()\n",
        "# Time - o(n), space = o(1)\n",
        "print(text.isdigit())\n",
        "#-----------------------------------------\n",
        "# isdecimal - check the string is decimal\n",
        "# syn - str. isdecimal()\n",
        "# Time - o(n), space = o(1)\n",
        "print(text.isdecimal())\n",
        "#-----------------------------------------\n",
        "# isidentifier - check the string is identifier\n",
        "# syn - str. Isidentifier()\n",
        "# Time - o(n) space = o(1)\n",
        "print(text.isidentifier())\n",
        "#------------------------------------------\n",
        "# islower - check the string is lower case\n",
        "# isupper - check the string is upper case\n",
        "# isnumeric - check the string is numeric format\n",
        "# isprintable - check the string is printable\n",
        "# isspace - check the string has space\n",
        "# istitle - check the string have follow titles rules\n",
        "\n",
        "# all have time = o(n), space - o(1)\n",
        "print(text.islower())\n",
        "print(text.isupper())\n",
        "print(text.isnumeric())\n",
        "print(text.isprintable())\n",
        "print(text.isspace())\n",
        "print(text.istitle())\n",
        "#------------------------------------------\n",
        "# join - it take all item in iteratable into one string\n",
        "# syn - str.join(iteratblr)\n",
        "# time = o(n), space = o(n)\n",
        "print(\" \".join([\"chappuni\", \"suppuni\", \"manguni\"]))\n",
        "#-------------------------------------------\n",
        "# ljust - return the left justifed version of string\n",
        "# rjust - return the right justified version of string\n",
        "# time - o(n) space o(n)\n",
        "print(text.ljust(20) + \" Na rasapa ivan rajesh ivan sankaruh\")\n",
        "print(text.rjust(30))\n",
        "#------------------------------------------\n",
        "# strip - trim the string\n",
        "# lstrip - trim the left side string\n",
        "# rstrip - trim the right side string\n",
        "# syn - str.strip(val)\n",
        "print(\" ,* Hello\".strip(\" ,*\"))\n",
        "print(\"   Hey beema kalaku beema\".lstrip())\n",
        "print(\"Hey beema kalaku beema *,.....\".rstrip(\" *,.\"))\n",
        "\n",
        "# time = o(n), space = o(n)\n",
        "\n",
        "#------------------------------------------\n",
        "# split - split the string by the value into list\n",
        "# syn - str.split(val)\n",
        "# time - o(n), Space - o(n)\n",
        "print(text.split())\n",
        "# splitlines - split the string into list each line is a element\n",
        "print(\"chappuni\\nsuppuni\".splitlines(True))\n",
        "# True include the linebreak also\n",
        "#------------------------------------------\n",
        "# partition - split the string into tuple in three parts\n",
        "# syn - str.partition(value)\n",
        "# time = o(n), space = o(n)\n",
        "print(\"hello world bhaiya\".partition(\"world\"))\n",
        "print(\"kjmirunga bhai\".partition(\"bhai\"))\n",
        "#------------------------------------------\n",
        "# replace - replace value in the string\n",
        "# syn - str.replace(old, new)\n",
        "# time = o(n*m), space = o(n)\n",
        "print(\"jumbalaka\".replace(\"j\", \"k\"))\n",
        "#------------------------------------------\n",
        "# swapcase - swapping the cases of the string lower and upper vise versa\n",
        "# syn= str. swapcase()\n",
        "# time = o(n), space = o(n)\n",
        "print(\"HELLO KANTHSAMYY\".swapcase())\n",
        "#-------------------------------------------\n",
        "# zfill = The zfill() method adds zeros (0) at the beginning of the string, until it reaches the specified length\n",
        "# syn = str.zfill(10)\n",
        "# time = o(n), space = o(n)\n",
        "print(\"hi\".zfill(50))\n",
        "#------------------------------------------\n",
        "# translate & maketrans\n",
        "# maketrans is used to create translation table\n",
        "\n",
        "tbl = str.maketrans(\"abc\",\"123\")\n",
        "# translate useed to translate values are mapping to the table\n",
        "print(\"abcxyz\".translate(tbl))\n",
        "\n",
        "# time - o(n)\n",
        "# space - o(m)\n",
        "#------------------------------------------\n",
        "# reverse - reverse the string\n",
        "# time - o(n), space- o(n)\n",
        "print(text[::-1])"
      ],
      "metadata": {
        "colab": {
          "base_uri": "https://localhost:8080/"
        },
        "id": "P92OMnAVpYiC",
        "outputId": "f5d16345-b7f6-4be9-b835-f69820da3490"
      },
      "execution_count": null,
      "outputs": [
        {
          "output_type": "stream",
          "name": "stdout",
          "text": [
            "Chappuni suppuni manguni\n",
            "chappuni suppuni manguni\n",
            "                       chappuni suppuni manguni                       \n",
            "iiiiiiiiiiiiiiiiiichappuni suppuni manguniiiiiiiiiiiiiiiiiii\n",
            "2\n",
            "b'chappuni suppuni manguni'\n",
            "True\n",
            "True\n",
            "H e l l o\n",
            "1\n",
            "swami age was 30\n",
            "9\n",
            "3\n",
            "12\n",
            "False\n",
            "False\n",
            "True\n",
            "False\n",
            "False\n",
            "False\n",
            "True\n",
            "False\n",
            "False\n",
            "True\n",
            "False\n",
            "False\n",
            "chappuni suppuni manguni\n",
            "chappuni suppuni manguni Na rasapa ivan rajesh ivan sankaruh\n",
            "      chappuni suppuni manguni\n",
            "Hello\n",
            "Hey beema kalaku beema\n",
            "Hey beema kalaku beema\n",
            "['chappuni', 'suppuni', 'manguni']\n",
            "['chappuni\\n', 'suppuni']\n",
            "('hello ', 'world', ' bhaiya')\n",
            "('kjmirunga ', 'bhai', '')\n",
            "kumbalaka\n",
            "hello kanthsamyy\n",
            "000000000000000000000000000000000000000000000000hi\n",
            "123xyz\n",
            "inugnam inuppus inuppahc\n"
          ]
        }
      ]
    },
    {
      "cell_type": "markdown",
      "source": [
        "# Boolean\n",
        "\n",
        "Represent two values\n",
        "\n",
        "## 1) True\n",
        "## 2) False"
      ],
      "metadata": {
        "id": "Ueo7VTc-yjJd"
      }
    },
    {
      "cell_type": "code",
      "source": [
        "if (5<6) :\n",
        "   print(True)\n",
        "else:\n",
        "   print(False)"
      ],
      "metadata": {
        "colab": {
          "base_uri": "https://localhost:8080/"
        },
        "id": "q_gOnG3n1Al5",
        "outputId": "fbd6438d-c9be-46f4-d043-a850bd7e5cfc"
      },
      "execution_count": null,
      "outputs": [
        {
          "output_type": "stream",
          "name": "stdout",
          "text": [
            "True\n"
          ]
        }
      ]
    },
    {
      "cell_type": "markdown",
      "source": [
        "# Operators\n",
        "\n",
        "Operators are used to perform operations.\n",
        "\n",
        "1) Arithmetic operators\n",
        "\n",
        "2) Assignment operators\n",
        "\n",
        "3) comparison operators\n",
        "\n",
        "4) Logical operators\n",
        "\n",
        "5) identify operators\n",
        "\n",
        "6) membership operators\n",
        "\n",
        "7) Bitwise operators"
      ],
      "metadata": {
        "id": "DjC-s4gw_LJH"
      }
    },
    {
      "cell_type": "code",
      "source": [
        "\n",
        "# Arithmetic operators - perform arithmetic operations\n",
        "print(3+5) # addition\n",
        "print(5-2) # substraction\n",
        "print(2*9) # multilpy\n",
        "print(18/2) # division\n",
        "print(5 % 2) # modules\n",
        "print(20**2) # exponential\n",
        "print(20//2) # floor division\n",
        "\n",
        "#------------------------------------------\n",
        "# Assignment Operators - perform assigning process\n",
        "a=5\n",
        "print(a)\n",
        "\n",
        "x = 3\n",
        "x += 1\n",
        "print(x)\n",
        "\n",
        "x -=1\n",
        "print(x)\n",
        "\n",
        "x *=2\n",
        "print(x)\n",
        "\n",
        "x /= 3\n",
        "print(x)\n",
        "\n",
        "x%=2\n",
        "print(x)\n",
        "\n",
        "x **= 3\n",
        "print(x)\n",
        "\n",
        "x//= 4\n",
        "print(x)\n",
        "\n",
        "x = 5\n",
        "\n",
        "x &= 1\n",
        "print(x)\n",
        "\n",
        "x|=1\n",
        "print(x)\n",
        "\n",
        "x^=1\n",
        "print(x)\n",
        "\n",
        "x<<=1\n",
        "print(x)\n",
        "\n",
        "x>>=1\n",
        "print(x)\n",
        "#------------------------------------------\n",
        "# Comparison Operators - perform comparison\n",
        "print(2==2) # equal to\n",
        "print(2!=1) # not equal\n",
        "print(2<3)  # less then\n",
        "print(2<=2) # less then or equal to\n",
        "print(2>4) # greater than\n",
        "print(2>=5) # greater than Or equal\n",
        "#------------------------------------------\n",
        "# logical operators\n",
        "x = 5\n",
        "\n",
        "# And - both are true\n",
        "if x < 6 and x == 5:\n",
        "   print(True)\n",
        "\n",
        "# or - if any one is true\n",
        "if x>6 or x == 5:\n",
        "   print(True)\n",
        "\n",
        "# not - reverse the result\n",
        "if not(x == 5):\n",
        "   print(True)\n",
        "else:\n",
        "   print(False)\n",
        "#------------------------------------------\n",
        "# identify operators - compare to same object\n",
        "name = \"jacky\"\n",
        "f_nam= \"jacky\"\n",
        "b = name\n",
        "print(name is b)\n",
        "print(name is not b)\n",
        "#------------------------------------------\n",
        "# membership operators\n",
        "# in\n",
        "if 1 in [1,2,3,4]:\n",
        "   print(True)\n",
        "\n",
        "# not in\n",
        "if 10 not in [1,2,3,4]:\n",
        "   print(True)\n",
        "\n",
        "#------------------------------------------\n",
        "# bitwise - perform bit level operation\n",
        "\n",
        "b1 = 5\n",
        "b2 = 3\n",
        "\n",
        "print(b1&b2)\n",
        "print(b1|b2)\n",
        "print(b1^b2)\n",
        "print(~b2)\n",
        "print(b1<<b2)\n",
        "print(b1>>b2)"
      ],
      "metadata": {
        "colab": {
          "base_uri": "https://localhost:8080/"
        },
        "id": "xx5dlfq0AGvo",
        "outputId": "f2df712c-64b3-40c6-8e36-9a4b349395d2"
      },
      "execution_count": null,
      "outputs": [
        {
          "output_type": "stream",
          "name": "stdout",
          "text": [
            "8\n",
            "3\n",
            "18\n",
            "9.0\n",
            "1\n",
            "400\n",
            "10\n",
            "5\n",
            "4\n",
            "3\n",
            "6\n",
            "2.0\n",
            "0.0\n",
            "0.0\n",
            "0.0\n",
            "1\n",
            "1\n",
            "0\n",
            "0\n",
            "0\n",
            "True\n",
            "True\n",
            "True\n",
            "True\n",
            "False\n",
            "False\n",
            "True\n",
            "True\n",
            "False\n",
            "True\n",
            "False\n",
            "True\n",
            "True\n",
            "1\n",
            "7\n",
            "6\n",
            "-4\n",
            "40\n",
            "0\n"
          ]
        }
      ]
    },
    {
      "cell_type": "markdown",
      "source": [
        "# List\n",
        "\n",
        "List is mutable ordered sequence item. It can store multiple data type like str, numeric etc.It allows duplicate also.\n",
        "\n",
        "Syntax\n",
        "_______\n",
        "my_list = []\n",
        "\n",
        "\n",
        "Time Complexity - o(n)\n",
        "\n",
        "Space Complexity - o(n)\n",
        "\n",
        "\n",
        "List items are indexed. That index are start with 0. If we accessing reverse using negative indexing which means it starts -1."
      ],
      "metadata": {
        "id": "PrjIELqr6yU0"
      }
    },
    {
      "cell_type": "code",
      "source": [
        "\n",
        "my_list = ['a','e', 'i', 'o', 'u']\n",
        "\n",
        "# length of list\n",
        "# time = o(1), space = o(n)\n",
        "print(len(my_list))\n",
        "#-----------------------\n",
        "# we can use multiple data type in the list\n",
        "list1 = [1, 0.1,'hi', (1, 2,3), {\"a\":\"swami\"}]\n",
        "print(list1)\n",
        "#-----------------------\n",
        "# create list using list constructor.\n",
        "lis1 = list()\n",
        "print(type(lis1))\n",
        "#------------------------\n",
        "# Accessing element in the list\n",
        "# To accessing the element in the list we use index\n",
        "# syn - list[index]\n",
        "# Time - o(1), Space - o(1)\n",
        "print(my_list[0])\n",
        "\n",
        "# negative indexing\n",
        "print(my_list[-1])\n",
        "\n",
        "# range indexing - which range to which range elements\n",
        "# Time = o(k), Space o(k)\n",
        "print(my_list[2:4])\n",
        "# negative range indexing\n",
        "print(my_list[-4:-1])\n",
        "print(my_list[1:])\n",
        "print(my_list[:-1])\n",
        "print(my_list[::-1]) # it also using reverse\n",
        "#--------------------------\n",
        "# check the item is available using memebership op\n",
        "print('a' in my_list)\n",
        "#--------------------------\n",
        "# change list items - using index\n",
        "# time - o(1), space - o(1)\n",
        "my_list[1] = 'd'\n",
        "print(my_list)\n",
        "# change range indexing\n",
        "# time - o(k), space - o(k)\n",
        "my_list[2:4] = ['s', 't']\n",
        "print(my_list)\n",
        "my_list[1:3] = ['q', 'f']\n",
        "print(my_list)\n",
        "my_list[1:2] = ['r', 'x'] # between no charcter accessing  mentioned end index and add new one\n",
        "print(my_list)\n",
        "#----------------------------\n",
        "# insert elements - insert new element in which position we want\n",
        "# syn - list.insert(index, element)\n",
        "# Time - o(n), space - o(n)\n",
        "my_list.insert(1, \"hello\")\n",
        "print(my_list)\n",
        "#------------------------------\n",
        "# add item in list using append\n",
        "# syn - list.append(element)\n",
        "# Time - o(1), space - o(1)\n",
        "my_list.append(\" Vettaiyan\")\n",
        "print(my_list)\n",
        "#-------------------------------\n",
        "# Extend - to adding the iterable datatype to extending the list\n",
        "# syn - list.extend(element)\n",
        "# Time - o(k), Space - o(k)\n",
        "my_list.extend((1, 2))\n",
        "my_list.extend({\"s\":\"1\"})\n",
        "print(my_list)\n",
        "#-------------------------------\n",
        "# remove items\n",
        "# syn - list.remove(item)\n",
        "# time - o(n), space - o(n)\n",
        "# If more than one item remove() choose first occurred\n",
        "my_list.remove(\"s\")\n",
        "print(my_list)\n",
        "\n",
        "# remove specific index\n",
        "# using pop method\n",
        "# syn - list.pop(index)\n",
        "# Time - o(n), space - o(n)\n",
        "my_list.pop(0)\n",
        "print(my_list)\n",
        "\n",
        "# pop usually remove the last index in the list\n",
        "my_list.pop()\n",
        "print(my_list)\n",
        "\n",
        "my_list.pop(-1) # negative indexing\n",
        "print(my_list)\n",
        "\n",
        "# using del\n",
        "# syn - del list[index]\n",
        "# Time - o(n), space - o(n)\n",
        "del my_list[1]\n",
        "print(my_list)\n",
        "\n",
        "del my_list[-1]\n",
        "print(my_list)\n",
        "\n",
        "del my_list[-3:-1]\n",
        "print(my_list)\n",
        "\n",
        "# del using delete full list\n",
        "# time - o(n), space = o(1)\n",
        "del my_list\n",
        "\n",
        "# clear the list\n",
        "# syn - list.clear()\n",
        "# time - o(n), space - o(1)\n",
        "list1.clear()\n",
        "print(list1)\n",
        "#------------------------------------------\n",
        "# loop list - through loop item using for & while\n",
        "list_2 = [1,2,3,4,5]\n",
        "# for loop\n",
        "for i in list_2:\n",
        "    print(i)\n",
        "# for loop using length and range\n",
        "for i in range(len(list_2)):\n",
        "    print(list_2[i])\n",
        "# while loop\n",
        "i = 0\n",
        "while i < len(list_2):\n",
        "     print(list_2[i])\n",
        "     i += 1\n",
        "\n",
        "#------------------------------------------\n",
        "# list comprehenaion - an easy to read, compact,\n",
        "# and elegant way of creating a list from any existing iterable object\n",
        "# syn - newlist = [expression for item in iterable condition]\n",
        "# Time - o(n), space - o(n)\n",
        "Ex_list = [10,15,16,18,20,27,29,36,42,40,50,60]\n",
        "\n",
        "new_list = [Ex_list[i] for i in range(len(Ex_list)) if Ex_list[i]> 20]\n",
        "print(new_list)\n",
        "\n",
        "# nested list\n",
        "# time = o(n**2) if same time run the loop\n",
        "# o(n*m) = different time each loop\n",
        "# space - o(n)\n",
        "\n",
        "new_lis = [ x*y for x in Ex_list for y in Ex_list]\n",
        "print(new_lis)\n",
        "#------------------------------------------\n",
        "# sort list - sort method is used to sort the values in the list\n",
        "# syn - list.sort(), in this method \"reverse = True\" is used to descending order\n",
        "# Time - o(n logn) , space = o(1)\n",
        "Ex_list.sort()\n",
        "print(Ex_list)\n",
        "\n",
        "# descending\n",
        "Ex_list.sort(reverse = True)\n",
        "print(Ex_list)\n",
        "\n",
        "# case sensitive. First capital letters first and lower next\n",
        "#-----------------------------------------\n",
        "# reverse the list\n",
        "# time - o(n), space - o(n)\n",
        "Ex_list.reverse()\n",
        "print(Ex_list)\n",
        "#-----------------------------------------\n",
        "# copy the list\n",
        "# using copy method\n",
        "# time - o(n), space - o(n)\n",
        "my_1 = Ex_list.copy()\n",
        "print(my_1)\n",
        "\n",
        "#use list method\n",
        "my_2 = list(Ex_list)\n",
        "print(my_2)\n",
        "\n",
        "#using slice operator\n",
        "my_3 = Ex_list[:]\n",
        "print(my_3)\n",
        "#-----------------------------------------\n",
        "# join list\n",
        "# time - o(n+m), space = o(n)\n",
        "\n",
        "print(my_1+my_2)\n",
        "\n",
        "# using Extend method\n",
        "my_1.extend(my_2)\n",
        "print(my_1)\n",
        "#-----------------------------------------\n",
        "# accessing element in nested list\n",
        "a = [[1, 2, 3] , [4, 5,6],{'a':'hello'}]\n",
        "print(a[0][1])\n",
        "\n",
        "# accesiing dict element in list\n",
        "print(a[2]['a'])\n",
        "#-----------------------------------------\n",
        "# count - counting the value how many times occurred\n",
        "# syn - list.count(element)\n",
        "# Time - o(n), Space - o(1)\n",
        "print([1,2,3,4,5,1,2].count(1))\n",
        "#------------------------------------------\n",
        "# max - maximum, time-o(n) , space - o(1)\n",
        "print(max([1,2,3,4,5,1,2]))\n",
        "\n",
        "# min - minimum, time-o(n) , space - o(1)\n",
        "print(min([1,2,3,4,5,1,2]))\n",
        "\n",
        "# sum - sum, time-o(n) , space - o(1)\n",
        "print(sum([1,2,3,4,5,1,2]))\n",
        "#------------------------------------------\n",
        "# zip - combine multiple element into tuple\n",
        "# time - o(k), space - o(k)\n",
        "li1 = [1,2,3,4,5,6,0]\n",
        "li2 = [2,4,5,6,7,8]\n",
        "li3 = ['s','a', 'b ']\n",
        "new = list(zip(li1, li2, li3))\n",
        "print (new)\n",
        "#------------------------------\n",
        "# enumerate - return the element with their index\n",
        "# time - o(n), space - o(1)\n",
        "print(list(enumerate(li1)))\n",
        "#------------------------------\n",
        "# map - map is connect each element into the function\n",
        "# time - o(n), space - o(1)\n",
        "slist = list(map(lambda x:x**2, li1))\n",
        "print(slist)\n",
        "#------------------------------\n",
        "# filter - filter the element which function return true\n",
        "# time - o(n), space - o(k)\n",
        "s2 = list(filter(lambda x:x%2 == 0, li1))\n",
        "print(s2)\n",
        "#-------------------------------\n",
        "# all - return if all true\n",
        "# any - return if any one true\n",
        "print(all(li1))\n",
        "print(any(li1))"
      ],
      "metadata": {
        "colab": {
          "base_uri": "https://localhost:8080/"
        },
        "id": "h6bEe7SiA3IZ",
        "outputId": "fd859bf7-6721-4b03-a1c5-2c99714f308a"
      },
      "execution_count": null,
      "outputs": [
        {
          "output_type": "stream",
          "name": "stdout",
          "text": [
            "5\n",
            "[1, 0.1, 'hi', (1, 2, 3), {'a': 'swami'}]\n",
            "<class 'list'>\n",
            "a\n",
            "u\n",
            "['i', 'o']\n",
            "['e', 'i', 'o']\n",
            "['e', 'i', 'o', 'u']\n",
            "['a', 'e', 'i', 'o']\n",
            "['u', 'o', 'i', 'e', 'a']\n",
            "True\n",
            "['a', 'd', 'i', 'o', 'u']\n",
            "['a', 'd', 's', 't', 'u']\n",
            "['a', 'q', 'f', 't', 'u']\n",
            "['a', 'r', 'x', 'f', 't', 'u']\n",
            "['a', 'hello', 'r', 'x', 'f', 't', 'u']\n",
            "['a', 'hello', 'r', 'x', 'f', 't', 'u', ' Vettaiyan']\n",
            "['a', 'hello', 'r', 'x', 'f', 't', 'u', ' Vettaiyan', 1, 2, 's']\n",
            "['a', 'hello', 'r', 'x', 'f', 't', 'u', ' Vettaiyan', 1, 2]\n",
            "['hello', 'r', 'x', 'f', 't', 'u', ' Vettaiyan', 1, 2]\n",
            "['hello', 'r', 'x', 'f', 't', 'u', ' Vettaiyan', 1]\n",
            "['hello', 'r', 'x', 'f', 't', 'u', ' Vettaiyan']\n",
            "['hello', 'x', 'f', 't', 'u', ' Vettaiyan']\n",
            "['hello', 'x', 'f', 't', 'u']\n",
            "['hello', 'x', 'u']\n",
            "[]\n",
            "1\n",
            "2\n",
            "3\n",
            "4\n",
            "5\n",
            "1\n",
            "2\n",
            "3\n",
            "4\n",
            "5\n",
            "1\n",
            "2\n",
            "3\n",
            "4\n",
            "5\n",
            "[27, 29, 36, 42, 40, 50, 60]\n",
            "[100, 150, 160, 180, 200, 270, 290, 360, 420, 400, 500, 600, 150, 225, 240, 270, 300, 405, 435, 540, 630, 600, 750, 900, 160, 240, 256, 288, 320, 432, 464, 576, 672, 640, 800, 960, 180, 270, 288, 324, 360, 486, 522, 648, 756, 720, 900, 1080, 200, 300, 320, 360, 400, 540, 580, 720, 840, 800, 1000, 1200, 270, 405, 432, 486, 540, 729, 783, 972, 1134, 1080, 1350, 1620, 290, 435, 464, 522, 580, 783, 841, 1044, 1218, 1160, 1450, 1740, 360, 540, 576, 648, 720, 972, 1044, 1296, 1512, 1440, 1800, 2160, 420, 630, 672, 756, 840, 1134, 1218, 1512, 1764, 1680, 2100, 2520, 400, 600, 640, 720, 800, 1080, 1160, 1440, 1680, 1600, 2000, 2400, 500, 750, 800, 900, 1000, 1350, 1450, 1800, 2100, 2000, 2500, 3000, 600, 900, 960, 1080, 1200, 1620, 1740, 2160, 2520, 2400, 3000, 3600]\n",
            "[10, 15, 16, 18, 20, 27, 29, 36, 40, 42, 50, 60]\n",
            "[60, 50, 42, 40, 36, 29, 27, 20, 18, 16, 15, 10]\n",
            "[10, 15, 16, 18, 20, 27, 29, 36, 40, 42, 50, 60]\n",
            "[10, 15, 16, 18, 20, 27, 29, 36, 40, 42, 50, 60]\n",
            "[10, 15, 16, 18, 20, 27, 29, 36, 40, 42, 50, 60]\n",
            "[10, 15, 16, 18, 20, 27, 29, 36, 40, 42, 50, 60]\n",
            "[10, 15, 16, 18, 20, 27, 29, 36, 40, 42, 50, 60, 10, 15, 16, 18, 20, 27, 29, 36, 40, 42, 50, 60]\n",
            "[10, 15, 16, 18, 20, 27, 29, 36, 40, 42, 50, 60, 10, 15, 16, 18, 20, 27, 29, 36, 40, 42, 50, 60]\n",
            "2\n",
            "hello\n",
            "2\n",
            "5\n",
            "1\n",
            "18\n",
            "[(1, 2, 's'), (2, 4, 'a'), (3, 5, 'b ')]\n",
            "[(0, 1), (1, 2), (2, 3), (3, 4), (4, 5), (5, 6), (6, 0)]\n",
            "[1, 4, 9, 16, 25, 36, 0]\n",
            "[2, 4, 6, 0]\n",
            "False\n",
            "True\n"
          ]
        }
      ]
    },
    {
      "cell_type": "markdown",
      "source": [
        "# Tuple\n",
        "\n",
        "Tuple is the one of the built-in collection. It is ordered, and unchangeable.It can store the different data types. Once it's created we cannot modified. It also allowed duplicate values.\n",
        "\n",
        "Time complexity - o(n), space complexity - o(n)"
      ],
      "metadata": {
        "id": "lkXZO6kzCs96"
      }
    },
    {
      "cell_type": "code",
      "source": [
        "\n",
        "\n",
        "tup = (1,2,3,4,5)\n",
        "print(type(tup))\n",
        "#-----------------\n",
        "# using tuple() constructor\n",
        "tup1 = tuple((1,2,3,4))\n",
        "print(tup1)\n",
        "#-----------------\n",
        "# len() - find the length\n",
        "# time - o(1), space- o(n)\n",
        "print(len(tup))\n",
        "#-----------------\n",
        "# accessing elements. It also start 0 index\n",
        "# time - o(1), space = o(1)\n",
        "print(tup[1])\n",
        "# negative indexing\n",
        "print(tup[-1])\n",
        "# range indexing\n",
        "#time - o(k), space - o(k)\n",
        "print(tup[2:4])\n",
        "print(tup[-4:-1])\n",
        "#------------------\n",
        "# check if it is available\n",
        "print(2 in tup)\n",
        "#-------------------\n",
        "# update tuple\n",
        "# tuple once created value does not change. To convert list and change it\n",
        "x = list(tup)\n",
        "x[0] = 2\n",
        "x.append(5) # append method\n",
        "tup = tuple(x)\n",
        "print(tup)\n",
        "# add tuple to tuple\n",
        "# Time - o(n+m), space - o(n)\n",
        "print(tup+tup1)\n",
        "\n",
        "# delete\n",
        "del tup1\n",
        "#--------------\n",
        "# count - count values occured\n",
        "# time - o(k) , space - o(1)\n",
        "print(tup.count(2))\n",
        "# index\n",
        "print(tup.index(2))\n",
        "#---------------\n",
        "# unpack\n",
        "a,b,c = (1,2,3)\n",
        "print(a)\n",
        "# using * for less variable for more values\n",
        "a,b,*c = tup\n",
        "print(*c)\n",
        "#-------------+--\n",
        "#join tuple\n",
        "tup1 = tup+tup\n",
        "print(tup1)\n",
        "tup2 = tup*3\n",
        "print(tup2)\n",
        "#-----------------"
      ],
      "metadata": {
        "colab": {
          "base_uri": "https://localhost:8080/"
        },
        "id": "XpGe3jU5U9jy",
        "outputId": "b292a5cd-aca9-4e5f-f8ae-3a2d149fe605"
      },
      "execution_count": null,
      "outputs": [
        {
          "output_type": "stream",
          "name": "stdout",
          "text": [
            "<class 'tuple'>\n",
            "(1, 2, 3, 4)\n",
            "5\n",
            "2\n",
            "5\n",
            "(3, 4)\n",
            "(2, 3, 4)\n",
            "True\n",
            "(2, 2, 3, 4, 5, 5)\n",
            "(2, 2, 3, 4, 5, 5, 1, 2, 3, 4)\n",
            "2\n",
            "0\n",
            "1\n",
            "3 4 5 5\n",
            "(2, 2, 3, 4, 5, 5, 2, 2, 3, 4, 5, 5)\n",
            "(2, 2, 3, 4, 5, 5, 2, 2, 3, 4, 5, 5, 2, 2, 3, 4, 5, 5)\n"
          ]
        }
      ]
    },
    {
      "cell_type": "markdown",
      "source": [
        "# Set\n",
        "\n",
        "Set is the one of the collection. It unordered,unchangeble ( which means once element we did not changed. But we can remove the element and add new).does not allow duplicate values.\n",
        "\n",
        "Set are written by curly bracket.\n",
        "\n",
        "In set True and 1 is same. False and 0 is same."
      ],
      "metadata": {
        "id": "Zn7qfO-YrYFb"
      }
    },
    {
      "cell_type": "code",
      "source": [
        "a = {1,2,3}\n",
        "print(a)\n",
        "print(type(a))\n",
        "# length - time o(1), space - o(n)\n",
        "print(len(a))\n",
        "# set constructer\n",
        "# create the set constructer\n",
        "b = set(([1,2,3,4,]))\n",
        "print(b)\n",
        "# set does not contain list, dict values only str, int, tuple\n",
        "#---------------------&\n",
        "# accessing the element. We cannot access the set element using index or key value using through loop only to access the element\n",
        "c = 1\n",
        "if c in a:\n",
        "   print(\"yes\")\n",
        "# time - o(n), space - o(n)\n",
        "#---------------------------\n",
        "#add element - time - o(1), space - o(n)\n",
        "a.add(4)\n",
        "print(a)\n",
        "# add item in the set to another set\n",
        "# update - time -o(n+m) , space - o(n+m)\n",
        "a.update({5,6,7,8})\n",
        "print(a)\n",
        "# add any iterable into the set\n",
        "a.update({'name':'om'})\n",
        "print(a)\n",
        "#-----------------------------\n",
        "# remove items\n",
        "# using remove - time - o(n), space - o(1)\n",
        "a.remove(5)\n",
        "print(a)\n",
        "# using discard - time -o(n), space -o(1)\n",
        "# if remove number does not exist it not raise the error\n",
        "a.discard(6)\n",
        "print(a)\n",
        "# using pop - time - o(n), space - o(1)\n",
        "# it remove last element. But it has been any element\n",
        "a.pop()\n",
        "print(a)\n",
        "# clear - empty the set, time - o(1), space-o(1)\n",
        "a.clear()\n",
        "print(a)\n",
        "#--------------------------------\n",
        "# loop through in set\n",
        "for I in b:\n",
        "    print(I)\n",
        "#--------------------------------\n",
        "# join sets\n",
        "# union - join all items both in the set\n",
        "# time - o(n+m), space - o(1)\n",
        "set1 = {1,2,3,4,5}\n",
        "set2 = {3,2,4,'a',6,7}\n",
        "set3 = set1.union(set2)\n",
        "print(set3)\n",
        "# also use | operator\n",
        "set4 = set1|set2\n",
        "print(set4)\n",
        "# we can use join set & tuple. Update method also same like\n",
        "#--------------------------------\n",
        "# intersection - return the set both item present in the 2 sets\n",
        "set5 = set1.intersection(set2)\n",
        "print(set5)\n",
        "set6 = set1&set2\n",
        "print(set6)\n",
        "# The intersection_update() method will also keep ONLY the duplicates, but it will change the original set\n",
        "#--------------------------------\n",
        "# difference - different values in set.\n",
        "set7 = set1.difference (set2)\n",
        "print(set7)\n",
        "set8 = set1 - set2\n",
        "print(set8)\n",
        "#The difference_update() method will also keep the items from the first set that are not in the other set\n",
        "#---------------------------------\n",
        "# symetric difference - not present in the both set\n",
        "set9 = set1.symmetric_difference(set2)\n",
        "print(set9)\n",
        "set10 = set1 ^ set2\n",
        "print(set10)\n",
        "#---------------\n",
        "# disjoint - return True if both two set have different values\n",
        "set1.isdisjoint(set2)\n",
        "#issubset - return True set 1 items present in set2\n",
        "print(set1.issubset(set2))\n",
        "print(set1<=set2)\n",
        "# issuperset - return true if set 2 have all in set1\n",
        "set1.issuperset(set2)\n",
        "set1 >= set2"
      ],
      "metadata": {
        "colab": {
          "base_uri": "https://localhost:8080/"
        },
        "id": "lV6JNAQiAmeU",
        "outputId": "dd52c4de-f74b-4b26-b171-1d90d66f7280"
      },
      "execution_count": null,
      "outputs": [
        {
          "output_type": "stream",
          "name": "stdout",
          "text": [
            "{1, 2, 3}\n",
            "<class 'set'>\n",
            "3\n",
            "{1, 2, 3, 4}\n",
            "yes\n",
            "{1, 2, 3, 4}\n",
            "{1, 2, 3, 4, 5, 6, 7, 8}\n",
            "{1, 2, 3, 4, 5, 6, 7, 8, 'name'}\n",
            "{1, 2, 3, 4, 6, 7, 8, 'name'}\n",
            "{1, 2, 3, 4, 7, 8, 'name'}\n",
            "{2, 3, 4, 7, 8, 'name'}\n",
            "set()\n",
            "1\n",
            "2\n",
            "3\n",
            "4\n",
            "{1, 2, 3, 4, 5, 6, 7, 'a'}\n",
            "{1, 2, 3, 4, 5, 6, 7, 'a'}\n",
            "{2, 3, 4}\n",
            "{2, 3, 4}\n",
            "{1, 5}\n",
            "{1, 5}\n",
            "{1, 5, 6, 7, 'a'}\n",
            "{1, 5, 6, 7, 'a'}\n",
            "False\n",
            "False\n"
          ]
        },
        {
          "output_type": "execute_result",
          "data": {
            "text/plain": [
              "False"
            ]
          },
          "metadata": {},
          "execution_count": 36
        }
      ]
    },
    {
      "cell_type": "markdown",
      "source": [
        "# Dictionaries\n",
        "\n",
        "Dictionaries is the one the collection in the python. It was the key pair value. It's ordered and changeable and does not allow duplicate. Before 3.6 it's unordered. It's written by {}.\n",
        "\n",
        "Time - o(n)\n",
        "\n",
        "space - o(n)"
      ],
      "metadata": {
        "id": "6PtK2INFSBMV"
      }
    },
    {
      "cell_type": "code",
      "source": [
        "\n",
        "dict1 = {'name':'ayyan', 'place':'sabarimala'}\n",
        "print(dict1)\n",
        "# length\n",
        "print(len(dict1))\n",
        "#type\n",
        "print(type(dict1))\n",
        "# to access dict values\n",
        "print(dict1['name'])\n",
        "# create dict using constructor\n",
        "dict2 = dict(name = 'kandhan', place= 'Tiruchendur')\n",
        "print(dict2)\n",
        "# access dictionary items - time o(1), space - o(n)\n",
        "# we can accessing dictionary items refering keys\n",
        "print(dict2['name'])\n",
        "# using get method\n",
        "print(dict2.get('place'))\n",
        "# time - o(n), space - o(1)\n",
        "\n",
        "# keys() - get the keys in dictionary\n",
        "print(dict1.keys())\n",
        "# time - o(n), Space - o(n)\n",
        "\n",
        "# values() - get the values\n",
        "print(dict1.values())\n",
        "# time - o(n), space - o(n)\n",
        "\n",
        "# items() - The items() method will return each item in a dictionary, as tuples in a list\n",
        "print(dict1.items())\n",
        "# time - o(n) , space - o(n)\n",
        "\n",
        "# check if key is exisit\n",
        "if 'name' in dict1:\n",
        "   print(\"yes\")\n",
        "\n",
        "# change the dict values\n",
        "dict2['place'] = 'palani'\n",
        "print(dict2)\n",
        "\n",
        "# using update method\n",
        "# time - o(k), space - o(k)\n",
        "dict2.update({'name':'murugan'})\n",
        "print(dict2)\n",
        "\n",
        "# add dictionary items\n",
        "dict2['s/o'] = 'sivan'\n",
        "print(dict2)\n",
        "dict2.update({'nickname':'subramanyam'})\n",
        "print(dict2)\n",
        "\n",
        "#Remove dictionary items\n",
        "# pop method = time = o(1), space = o(1)\n",
        "print(dict2.pop('s/o'))\n",
        "print(dict2)\n",
        "\n",
        "# popitem() - remove last item\n",
        "dict2.popitem()\n",
        "print(dict2)\n",
        "\n",
        "#del - delete value using key\n",
        "del dict2['place']\n",
        "print(dict2)\n",
        "\n",
        "# totally delete\n",
        "# del dict2\n",
        "\n",
        "# clear method\n",
        "dict2.clear()\n",
        "print(dict2)\n",
        "\n",
        "# looping\n",
        "\n",
        "for i in dict1:\n",
        "   print(i)\n",
        "\n",
        "for k in dict1.keys():\n",
        "    print(k)\n",
        "\n",
        "for k, v in dict1.items() :\n",
        "    print(k , v)\n",
        "\n",
        "for v in dict1.values():\n",
        "    print(v)\n",
        "\n",
        "for i, k in enumerate(dict1.values()) :\n",
        "    print(i)\n",
        "    print(k)\n",
        "\n",
        "\n",
        "# convert dict to str\n",
        "print(type(repr(dict1)))\n",
        "\n",
        "# copy the dict - o(n), o(n)\n",
        "dict2 = dict1.copy()\n",
        "print(dict2)\n",
        "# using also dict constructor\n",
        "dict3 = dict(dict1)\n",
        "print(dict3)\n",
        "\n",
        "# nested dictionary\n",
        "# a dict contains dict\n",
        "nest_dict = {'name':'arjun', 'mark':{'tamil':100,'english':90}}\n",
        "print(nest_dict)\n",
        "print(nest_dict['mark']['tamil'])"
      ],
      "metadata": {
        "colab": {
          "base_uri": "https://localhost:8080/"
        },
        "id": "MWlQKt5mtmWu",
        "outputId": "f030cef2-483d-4119-eb87-e4e73bbd9c3d"
      },
      "execution_count": null,
      "outputs": [
        {
          "output_type": "stream",
          "name": "stdout",
          "text": [
            "{'name': 'ayyan', 'place': 'sabarimala'}\n",
            "2\n",
            "<class 'dict'>\n",
            "ayyan\n",
            "{'name': 'kandhan', 'place': 'Tiruchendur'}\n",
            "kandhan\n",
            "Tiruchendur\n",
            "dict_keys(['name', 'place'])\n",
            "dict_values(['ayyan', 'sabarimala'])\n",
            "dict_items([('name', 'ayyan'), ('place', 'sabarimala')])\n",
            "yes\n",
            "{'name': 'kandhan', 'place': 'palani'}\n",
            "{'name': 'murugan', 'place': 'palani'}\n",
            "{'name': 'murugan', 'place': 'palani', 's/o': 'sivan'}\n",
            "{'name': 'murugan', 'place': 'palani', 's/o': 'sivan', 'nickname': 'subramanyam'}\n",
            "sivan\n",
            "{'name': 'murugan', 'place': 'palani', 'nickname': 'subramanyam'}\n",
            "{'name': 'murugan', 'place': 'palani'}\n",
            "{'name': 'murugan'}\n",
            "{}\n",
            "name\n",
            "place\n",
            "name\n",
            "place\n",
            "name ayyan\n",
            "place sabarimala\n",
            "ayyan\n",
            "sabarimala\n",
            "0\n",
            "ayyan\n",
            "1\n",
            "sabarimala\n",
            "<class 'str'>\n",
            "{'name': 'ayyan', 'place': 'sabarimala'}\n",
            "{'name': 'ayyan', 'place': 'sabarimala'}\n",
            "{'name': 'arjun', 'mark': {'tamil': 100, 'english': 90}}\n",
            "100\n"
          ]
        }
      ]
    },
    {
      "cell_type": "markdown",
      "source": [
        "# Conditional Statement\n",
        "\n",
        "### 1) If - check the condition is True\n",
        "\n",
        "### 2) Elif - if Condition false another option\n",
        "\n",
        "### 3) Else - If conditions False check the else condition\n",
        "\n",
        "### 4) Nested If - it has inner if condition\n",
        "\n",
        "### 5) short hand if - it was one line statement\n",
        "\n",
        "### 6) short hand if else - it was one line statement\n",
        "\n",
        "### 7) and - both conditions are true\n",
        "\n",
        "### 8) or - any one was true\n",
        "\n",
        "### 9) NOT - reverse the result\n",
        "\n",
        "### 10) Pass - is used to some place holder\n",
        "\n",
        "### 11) break - break the loop\n",
        "\n",
        "### 12) continue - we can skip the current iteration. Like skip."
      ],
      "metadata": {
        "id": "LiF_xsmhp4GQ"
      }
    },
    {
      "cell_type": "code",
      "source": [
        "# if statement\n",
        "a = 10\n",
        "b = 20\n",
        "c = 30\n",
        "\n",
        "if a < b:\n",
        "   print(\"correct\")\n",
        "\n",
        "# if else\n",
        "if a > b:\n",
        "   print('wrong')\n",
        "else:\n",
        "   print('correct')\n",
        "\n",
        "# if - elif\n",
        "if a > b:\n",
        "   print('nallala')\n",
        "elif b < c:\n",
        "   print('nalaruku')\n",
        "\n",
        "# nested if\n",
        "if a < b :\n",
        "   if b < c :\n",
        "      print('ok')\n",
        "   else :\n",
        "      print('ok illa')\n",
        "\n",
        "# short handed if\n",
        "if a < b : print('helo')\n",
        "\n",
        "# short hand if else\n",
        "print('hellow1')  if a > b  else print('hellow2')\n",
        "\n",
        "# and\n",
        "if a < b and b < c :\n",
        "   print(\"True\")\n",
        "# or\n",
        "if a < b or b > c :\n",
        "   print(\"True\")\n",
        "# Not\n",
        "if not a > b :\n",
        "   print(\"True\")\n",
        "\n",
        "# pass\n",
        "if a < b :\n",
        "   pass"
      ],
      "metadata": {
        "colab": {
          "base_uri": "https://localhost:8080/"
        },
        "id": "hqiTmZnm2LW2",
        "outputId": "bfe99a69-18c4-4020-8000-25adcc13fe97"
      },
      "execution_count": null,
      "outputs": [
        {
          "output_type": "stream",
          "name": "stdout",
          "text": [
            "correct\n",
            "correct\n",
            "nalaruku\n",
            "ok\n",
            "helo\n",
            "hellow2\n",
            "True\n",
            "True\n",
            "True\n"
          ]
        }
      ]
    },
    {
      "cell_type": "markdown",
      "source": [
        "# Python Loops\n",
        "\n",
        "In python has two primitive loops\n",
        "\n",
        "1) While loop - execute the set of condition while the condition is true\n",
        "\n",
        "2) For loop - execute the loop while range is complete\n",
        "\n",
        "\n",
        "Time -  o(n)\n",
        "\n",
        "Space - o(n)"
      ],
      "metadata": {
        "id": "YoWMEAF1CqUH"
      }
    },
    {
      "cell_type": "code",
      "source": [
        "# while loop\n",
        "i = 1\n",
        "while i < 8:\n",
        "  print(i)\n",
        "  i+=1\n",
        "\n",
        "# while with break\n",
        "i = 2\n",
        "while i < 10:\n",
        "   print(\"\\n\",i)\n",
        "   if i == 8:\n",
        "      break\n",
        "   i += 1\n",
        "\n",
        "# while with continue.\n",
        "i = 5\n",
        "while i < 100:\n",
        "   print(i)\n",
        "   i += 5\n",
        "   if i == 50:\n",
        "      continue\n",
        "\n",
        "# while loop with else\n",
        "\n",
        "i = 0\n",
        "while i < len('nanban'):\n",
        "    print(i)\n",
        "    i += 1\n",
        "else:\n",
        "    print(\"completed\")"
      ],
      "metadata": {
        "colab": {
          "base_uri": "https://localhost:8080/"
        },
        "id": "ExWIdmJVGhmf",
        "outputId": "2100798a-1eb7-4386-b3f6-dfeca14244a5"
      },
      "execution_count": null,
      "outputs": [
        {
          "output_type": "stream",
          "name": "stdout",
          "text": [
            "1\n",
            "2\n",
            "3\n",
            "4\n",
            "5\n",
            "6\n",
            "7\n",
            "\n",
            " 2\n",
            "\n",
            " 3\n",
            "\n",
            " 4\n",
            "\n",
            " 5\n",
            "\n",
            " 6\n",
            "\n",
            " 7\n",
            "\n",
            " 8\n",
            "5\n",
            "10\n",
            "15\n",
            "20\n",
            "25\n",
            "30\n",
            "35\n",
            "40\n",
            "45\n",
            "50\n",
            "55\n",
            "60\n",
            "65\n",
            "70\n",
            "75\n",
            "80\n",
            "85\n",
            "90\n",
            "95\n",
            "0\n",
            "1\n",
            "2\n",
            "3\n",
            "4\n",
            "5\n",
            "completed\n"
          ]
        }
      ]
    },
    {
      "cell_type": "code",
      "source": [
        "# for loop\n",
        "\n",
        "for i in 'ayyan':\n",
        "    print(i)\n",
        "\n",
        "# for loop with continue\n",
        "for i in (2,4,65,78,90,100,108) :\n",
        "    if i % 2 == 0:\n",
        "       continue\n",
        "    print(i)\n",
        "\n",
        "# for loop with break\n",
        "for i in 'hayabuza':\n",
        "    print(i)\n",
        "    if i == 'b':\n",
        "       break\n",
        "\n",
        "# range function - is used to specified no of times\n",
        "for i in range(10) :\n",
        "    print(i)\n",
        "for i in range(1, 10):\n",
        "    print(i)\n",
        "\n",
        "# nested loop\n",
        "for i in [2,3,4, 5,6]:\n",
        "    for j in [1,2,3,4,5]:\n",
        "        print(i ** j)\n",
        "\n",
        "# with else\n",
        "for i in range(5):\n",
        "    print(i)\n",
        "else:\n",
        "    print('complete')"
      ],
      "metadata": {
        "colab": {
          "base_uri": "https://localhost:8080/"
        },
        "id": "yivqNckcPrTI",
        "outputId": "96c10f12-86a8-416d-e508-d0dc0a5fc512"
      },
      "execution_count": null,
      "outputs": [
        {
          "output_type": "stream",
          "name": "stdout",
          "text": [
            "a\n",
            "y\n",
            "y\n",
            "a\n",
            "n\n",
            "65\n",
            "h\n",
            "a\n",
            "y\n",
            "a\n",
            "b\n",
            "0\n",
            "1\n",
            "2\n",
            "3\n",
            "4\n",
            "5\n",
            "6\n",
            "7\n",
            "8\n",
            "9\n",
            "1\n",
            "2\n",
            "3\n",
            "4\n",
            "5\n",
            "6\n",
            "7\n",
            "8\n",
            "9\n",
            "2\n",
            "4\n",
            "8\n",
            "16\n",
            "32\n",
            "3\n",
            "9\n",
            "27\n",
            "81\n",
            "243\n",
            "4\n",
            "16\n",
            "64\n",
            "256\n",
            "1024\n",
            "5\n",
            "25\n",
            "125\n",
            "625\n",
            "3125\n",
            "6\n",
            "36\n",
            "216\n",
            "1296\n",
            "7776\n",
            "0\n",
            "1\n",
            "2\n",
            "3\n",
            "4\n",
            "complete\n"
          ]
        }
      ]
    },
    {
      "cell_type": "markdown",
      "source": [
        "# Function\n",
        "\n",
        "Function is the set of code was run when it's called.\n",
        "\n",
        "We can pass the data. It was called arguments. We can return the data as result.\n",
        "\n",
        "function was defining as def keyword."
      ],
      "metadata": {
        "id": "dvtNRT0RUSzf"
      }
    },
    {
      "cell_type": "code",
      "source": [
        "def print_func():\n",
        "   print('swami saranam')\n",
        "\n",
        "print_func()\n",
        "\n",
        "# if return the result using return keyword\n",
        "def print_fun() :\n",
        "    return \"swami ayyan ayyappan\"\n",
        "\n",
        "print(print_fun())"
      ],
      "metadata": {
        "colab": {
          "base_uri": "https://localhost:8080/"
        },
        "id": "yTP8TwBH1_Kv",
        "outputId": "fb7b75fe-707a-4535-f91c-66af46b9bf8b"
      },
      "execution_count": null,
      "outputs": [
        {
          "output_type": "stream",
          "name": "stdout",
          "text": [
            "swami saranam\n",
            "swami ayyan ayyappan\n"
          ]
        }
      ]
    },
    {
      "cell_type": "markdown",
      "source": [
        "# Aruguments\n",
        "\n",
        "we can pass the data into the function it's called as argument.\n",
        "\n",
        "parameter (or) arguments was used for same thing .\n",
        "\n",
        "\n",
        "parameter was the variable listed inside the parantheses\n",
        "\n",
        "Arguments is the value that was sent to the func when it's called\n",
        "\n",
        "# keyword arguments\n",
        "\n",
        "This way we can send the data as key value pair. Order of the argument does not matter."
      ],
      "metadata": {
        "id": "9Iw3l3lU3gOq"
      }
    },
    {
      "cell_type": "code",
      "source": [
        "def print_det(name, place):\n",
        "    print(\"swami {} was lived in {}.\".format(name, place))\n",
        "\n",
        "print_det(\"ayyappan\",\"sabarimala\")\n",
        "\n",
        "\n",
        "def print_det2(name, address, rank):\n",
        "    print(\"{} was lived in {}.His rank was {}\".format(name, address, rank))\n",
        "\n",
        "print_det2(address = 'chennai', name = 'ragu', rank =90)"
      ],
      "metadata": {
        "colab": {
          "base_uri": "https://localhost:8080/"
        },
        "id": "te6-PJFp59B1",
        "outputId": "d74b7ced-dd9b-4873-d9c9-62579a3954d7"
      },
      "execution_count": null,
      "outputs": [
        {
          "output_type": "stream",
          "name": "stdout",
          "text": [
            "swami ayyappan was lived in sabarimala.\n",
            "ragu was lived in chennai.His rank was 90\n"
          ]
        }
      ]
    },
    {
      "cell_type": "markdown",
      "source": [
        "# arbitrary arguments (*args)\n",
        "\n",
        "if we don't know the count of the arguments we use that *args.we can use any name of argument but we used prefix *.\n",
        "\n",
        "it return the data into the function as a tuple\n",
        "\n",
        "# keyword arbitrary arguments (*kwargs)\n",
        "if we don't know the count of the keywords arguments we use that **kwargs.we can use any name of argument but we used prefix **.\n",
        "\n",
        "It return dictionary of data."
      ],
      "metadata": {
        "id": "w5zCsTVa9Nyi"
      }
    },
    {
      "cell_type": "code",
      "source": [
        "def print_details(*det) :\n",
        "    print(\"{} nayaga {} mel eri vaa\".format(det[0], det[1]))\n",
        "\n",
        "print_details('sabarimalai', 'puli')\n",
        "\n",
        "\n",
        "def print_detkeywords(**detkey):\n",
        "    print(\"His name was {} and his age{} he studied at{}\".format(detkey['name'],detkey['age'], detkey['std']))\n",
        "\n",
        "print_detkeywords(name = \"ayyan\", age = 15, std = \"10th\")\n",
        "\n",
        "# default argument\n",
        "def prin_hello(name, age = 30) :\n",
        "    print(\"{} was {}\".format(name, age))\n",
        "\n",
        "prin_hello(\"arun\")\n",
        "\n",
        "# passing iterable obj , we can use any iterable.\n",
        "\n",
        "def iter_func(list1) :\n",
        "    for i in list1:\n",
        "        print(i*i)\n",
        "\n",
        "iter_func([1,2,3,4,5,6])\n",
        "\n",
        "# passing function as a parameter\n",
        "\n",
        "def apply_operation(func, a, b):\n",
        "    return func(a, b)\n",
        "\n",
        "def add(x, y):\n",
        "    return x + y\n",
        "\n",
        "print(\"output:\", apply_operation(add, 2, 3))  # Output: 5"
      ],
      "metadata": {
        "colab": {
          "base_uri": "https://localhost:8080/"
        },
        "id": "TGS03_2iMdCO",
        "outputId": "75f0c4b1-88cd-4d41-8806-7c5dce118bd1"
      },
      "execution_count": null,
      "outputs": [
        {
          "output_type": "stream",
          "name": "stdout",
          "text": [
            "sabarimalai nayaga puli mel eri vaa\n",
            "His name was ayyan and his age15 he studied at10th\n",
            "arun was 30\n",
            "1\n",
            "4\n",
            "9\n",
            "16\n",
            "25\n",
            "36\n",
            "output: 5\n"
          ]
        }
      ]
    },
    {
      "cell_type": "markdown",
      "source": [
        "# Recursion\n",
        "\n",
        "A function call itself is called recursion"
      ],
      "metadata": {
        "id": "s9lmTDI62d7N"
      }
    },
    {
      "cell_type": "code",
      "source": [
        "def recursion(n) :\n",
        "    if n == 0:\n",
        "       return 1\n",
        "    else:\n",
        "        return n * recursion(n-1)\n",
        "\n",
        "print(recursion(5))"
      ],
      "metadata": {
        "colab": {
          "base_uri": "https://localhost:8080/"
        },
        "id": "04tLNN3A4rM9",
        "outputId": "96a1aadd-f7eb-474d-a078-3c4e263347ef"
      },
      "execution_count": null,
      "outputs": [
        {
          "output_type": "stream",
          "name": "stdout",
          "text": [
            "120\n",
            "['bannana']\n",
            "[{'apple': 50}, {'bannana': 60}, {'citrus': 70}]\n"
          ]
        }
      ]
    },
    {
      "cell_type": "markdown",
      "source": [
        "# lambda\n",
        "\n",
        "lambda is the anonymous function defined as lambda keyword.\n",
        "\n",
        "A lambda function can take any number of arguments, but can only have one expression.\n",
        "\n",
        "syn: lambda arguments : expression\n",
        "\n",
        "\n",
        "lambda was used in python higher order function\n",
        "\n",
        "1) map\n",
        "\n",
        "2) sorted\n",
        "\n",
        "3) filter\n",
        "\n",
        "4) reduce"
      ],
      "metadata": {
        "id": "F0aF-RFI8-wl"
      }
    },
    {
      "cell_type": "code",
      "source": [
        " x = lambda a : a+ 10\n",
        "print(x(5))\n",
        "\n",
        "#--------------\n",
        "print((lambda x, y : x ** y)(10,12))\n",
        "#--------------\n",
        "# map - that applies a given function to each item in an iterable (e.g., list, tuple) and returns a map object (an iterator).\n",
        "li = [1,2,3,4,5]\n",
        "x1 = list(map(lambda x : x ** 2,li))\n",
        "print(x1)\n",
        "\n",
        "li1 = {\"a\":20,\"b\":30,\"c\":40,\"d\":50,\"e\":60,\"f\":80}\n",
        "x2 = list(map(lambda x : x * 2,li1.values()))\n",
        "print(x2)\n",
        "# ----------------\n",
        "# sorted\n",
        "data = [{\"bannana\": 60}, {\"citrus\": 70}, {\"apple\": 50}]\n",
        "sorted_data = sorted(data, key=lambda x: list(x.keys())[0])\n",
        "print(sorted_data)\n",
        "#--------------------\n",
        "# filter - filter the element in the iterable\n",
        "data1 = [2,3,4,10,15,16,18,20]\n",
        "filter_data = list(filter(lambda x: x% 2 == 0,data1))\n",
        "print(filter_data)\n",
        "#--------------------\n",
        "# reduce - applies a function cumulatively, combining elements step by step to reduce the iterable to a single result.\n",
        "from functools import reduce\n",
        "li3 = [1,2,3,4,5]\n",
        "red_data = reduce(lambda x, y: x*y, li3)\n",
        "print(red_data)"
      ],
      "metadata": {
        "colab": {
          "base_uri": "https://localhost:8080/"
        },
        "id": "cb2F_lN9DUQh",
        "outputId": "08b47e30-bd8b-4b52-bd8a-00a5e6490634"
      },
      "execution_count": null,
      "outputs": [
        {
          "output_type": "stream",
          "name": "stdout",
          "text": [
            "15\n",
            "1000000000000\n",
            "[1, 4, 9, 16, 25]\n",
            "[40, 60, 80, 100, 120, 160]\n",
            "[{'apple': 50}, {'bannana': 60}, {'citrus': 70}]\n",
            "[2, 4, 10, 16, 18, 20]\n",
            "120\n"
          ]
        }
      ]
    }
  ]
}